{
 "cells": [
  {
   "cell_type": "code",
   "execution_count": 42,
   "metadata": {},
   "outputs": [],
   "source": [
    "import pandas as pd\n",
    "import pyarrow.parquet as pq\n",
    "\n",
    "price_file = \"alpha_vantage_IBM_2025-01-26.parquet\"\n",
    "overview_file = \"company_overview_IBM_2025-01-26.parquet\"\n",
    "\n",
    "df_price = pd.read_parquet(price_file)\n",
    "df_overview = pd.read_parquet(overview_file)"
   ]
  },
  {
   "cell_type": "code",
   "execution_count": 43,
   "metadata": {},
   "outputs": [
    {
     "name": "stdout",
     "output_type": "stream",
     "text": [
      "Stock Price Data Sample:\n",
      "           1. open 2. high 3. low 4. close 5. volume      SMA\n",
      "1999-11-29    None    None   None     None      None  49.5621\n",
      "1999-11-30    None    None   None     None      None  49.7252\n",
      "1999-12-01    None    None   None     None      None  49.9466\n",
      "1999-12-02    None    None   None     None      None  50.2261\n",
      "1999-12-03    None    None   None     None      None  50.7440\n",
      "\n",
      "Company Overview Data Sample:\n",
      "  Symbol     AssetType                             Name  \\\n",
      "0    IBM  Common Stock  International Business Machines   \n",
      "\n",
      "                                         Description    CIK Exchange Currency  \\\n",
      "0  International Business Machines Corporation (I...  51143     NYSE      USD   \n",
      "\n",
      "  Country      Sector                     Industry  ... EVToRevenue  \\\n",
      "0     USA  TECHNOLOGY  COMPUTER & OFFICE EQUIPMENT  ...       4.063   \n",
      "\n",
      "  EVToEBITDA  Beta 52WeekHigh 52WeekLow 50DayMovingAverage  \\\n",
      "0       20.1  0.71     239.35    158.38             222.95   \n",
      "\n",
      "  200DayMovingAverage SharesOutstanding DividendDate ExDividendDate  \n",
      "0              199.73         924645000   2024-12-10     2024-11-12  \n",
      "\n",
      "[1 rows x 52 columns]\n"
     ]
    }
   ],
   "source": [
    "# Display data samples\n",
    "print(\"Stock Price Data Sample:\")\n",
    "print(df_price.head())\n",
    "\n",
    "print(\"\\nCompany Overview Data Sample:\")\n",
    "print(df_overview.head())"
   ]
  },
  {
   "cell_type": "code",
   "execution_count": 44,
   "metadata": {},
   "outputs": [
    {
     "name": "stdout",
     "output_type": "stream",
     "text": [
      "\n",
      "Price File Metadata:\n",
      "<pyarrow._parquet.FileMetaData object at 0x1469aba10>\n",
      "  created_by: parquet-cpp-arrow version 17.0.0\n",
      "  num_columns: 7\n",
      "  num_rows: 6328\n",
      "  num_row_groups: 1\n",
      "  format_version: 2.6\n",
      "  serialized_size: 4037\n",
      "\n",
      "Company Overview Metadata:\n",
      "<pyarrow._parquet.FileMetaData object at 0x1469a89a0>\n",
      "  created_by: parquet-cpp-arrow version 17.0.0\n",
      "  num_columns: 52\n",
      "  num_rows: 1\n",
      "  num_row_groups: 1\n",
      "  format_version: 2.6\n",
      "  serialized_size: 27811\n",
      "\n",
      "Price File Schema:\n",
      "<pyarrow._parquet.ParquetSchema object at 0x111659400>\n",
      "required group field_id=-1 schema {\n",
      "  optional binary field_id=-1 1. open (String);\n",
      "  optional binary field_id=-1 2. high (String);\n",
      "  optional binary field_id=-1 3. low (String);\n",
      "  optional binary field_id=-1 4. close (String);\n",
      "  optional binary field_id=-1 5. volume (String);\n",
      "  optional binary field_id=-1 SMA (String);\n",
      "  optional int64 field_id=-1 __index_level_0__ (Timestamp(isAdjustedToUTC=false, timeUnit=nanoseconds, is_from_converted_type=false, force_set_converted_type=false));\n",
      "}\n",
      "\n",
      "\n",
      "Company Overview Schema:\n",
      "<pyarrow._parquet.ParquetSchema object at 0x167882800>\n",
      "required group field_id=-1 schema {\n",
      "  optional binary field_id=-1 Symbol (String);\n",
      "  optional binary field_id=-1 AssetType (String);\n",
      "  optional binary field_id=-1 Name (String);\n",
      "  optional binary field_id=-1 Description (String);\n",
      "  optional binary field_id=-1 CIK (String);\n",
      "  optional binary field_id=-1 Exchange (String);\n",
      "  optional binary field_id=-1 Currency (String);\n",
      "  optional binary field_id=-1 Country (String);\n",
      "  optional binary field_id=-1 Sector (String);\n",
      "  optional binary field_id=-1 Industry (String);\n",
      "  optional binary field_id=-1 Address (String);\n",
      "  optional binary field_id=-1 OfficialSite (String);\n",
      "  optional binary field_id=-1 FiscalYearEnd (String);\n",
      "  optional binary field_id=-1 LatestQuarter (String);\n",
      "  optional binary field_id=-1 MarketCapitalization (String);\n",
      "  optional binary field_id=-1 EBITDA (String);\n",
      "  optional binary field_id=-1 PERatio (String);\n",
      "  optional binary field_id=-1 PEGRatio (String);\n",
      "  optional binary field_id=-1 BookValue (String);\n",
      "  optional binary field_id=-1 DividendPerShare (String);\n",
      "  optional binary field_id=-1 DividendYield (String);\n",
      "  optional binary field_id=-1 EPS (String);\n",
      "  optional binary field_id=-1 RevenuePerShareTTM (String);\n",
      "  optional binary field_id=-1 ProfitMargin (String);\n",
      "  optional binary field_id=-1 OperatingMarginTTM (String);\n",
      "  optional binary field_id=-1 ReturnOnAssetsTTM (String);\n",
      "  optional binary field_id=-1 ReturnOnEquityTTM (String);\n",
      "  optional binary field_id=-1 RevenueTTM (String);\n",
      "  optional binary field_id=-1 GrossProfitTTM (String);\n",
      "  optional binary field_id=-1 DilutedEPSTTM (String);\n",
      "  optional binary field_id=-1 QuarterlyEarningsGrowthYOY (String);\n",
      "  optional binary field_id=-1 QuarterlyRevenueGrowthYOY (String);\n",
      "  optional binary field_id=-1 AnalystTargetPrice (String);\n",
      "  optional binary field_id=-1 AnalystRatingStrongBuy (String);\n",
      "  optional binary field_id=-1 AnalystRatingBuy (String);\n",
      "  optional binary field_id=-1 AnalystRatingHold (String);\n",
      "  optional binary field_id=-1 AnalystRatingSell (String);\n",
      "  optional binary field_id=-1 AnalystRatingStrongSell (String);\n",
      "  optional binary field_id=-1 TrailingPE (String);\n",
      "  optional binary field_id=-1 ForwardPE (String);\n",
      "  optional binary field_id=-1 PriceToSalesRatioTTM (String);\n",
      "  optional binary field_id=-1 PriceToBookRatio (String);\n",
      "  optional binary field_id=-1 EVToRevenue (String);\n",
      "  optional binary field_id=-1 EVToEBITDA (String);\n",
      "  optional binary field_id=-1 Beta (String);\n",
      "  optional binary field_id=-1 52WeekHigh (String);\n",
      "  optional binary field_id=-1 52WeekLow (String);\n",
      "  optional binary field_id=-1 50DayMovingAverage (String);\n",
      "  optional binary field_id=-1 200DayMovingAverage (String);\n",
      "  optional binary field_id=-1 SharesOutstanding (String);\n",
      "  optional binary field_id=-1 DividendDate (String);\n",
      "  optional binary field_id=-1 ExDividendDate (String);\n",
      "}\n",
      "\n"
     ]
    }
   ],
   "source": [
    "# Inspect Parquet file metadata and schema\n",
    "price_parquet = pq.ParquetFile(price_file)\n",
    "overview_parquet = pq.ParquetFile(overview_file)\n",
    "\n",
    "print(\"\\nPrice File Metadata:\")\n",
    "print(price_parquet.metadata)\n",
    "\n",
    "print(\"\\nCompany Overview Metadata:\")\n",
    "print(overview_parquet.metadata)\n",
    "\n",
    "print(\"\\nPrice File Schema:\")\n",
    "print(price_parquet.schema)\n",
    "\n",
    "print(\"\\nCompany Overview Schema:\")\n",
    "print(overview_parquet.schema)"
   ]
  },
  {
   "cell_type": "code",
   "execution_count": 45,
   "metadata": {},
   "outputs": [
    {
     "name": "stdout",
     "output_type": "stream",
     "text": [
      "\n",
      "Stock Price Data - Summary Statistics:\n",
      "         1. open   2. high    3. low  4. close 5. volume      SMA\n",
      "count        100       100       100       100       100     6328\n",
      "unique        95        99        97       100       100     6290\n",
      "top     223.3500  221.3200  230.2600  202.1300   4750999  44.0813\n",
      "freq           3         2         3         1         1        2\n",
      "\n",
      "Company Overview Data - Summary Statistics:\n",
      "       Symbol     AssetType                             Name  \\\n",
      "count       1             1                                1   \n",
      "unique      1             1                                1   \n",
      "top       IBM  Common Stock  International Business Machines   \n",
      "freq        1             1                                1   \n",
      "\n",
      "                                              Description    CIK Exchange  \\\n",
      "count                                                   1      1        1   \n",
      "unique                                                  1      1        1   \n",
      "top     International Business Machines Corporation (I...  51143     NYSE   \n",
      "freq                                                    1      1        1   \n",
      "\n",
      "       Currency Country      Sector                     Industry  ...  \\\n",
      "count         1       1           1                            1  ...   \n",
      "unique        1       1           1                            1  ...   \n",
      "top         USD     USA  TECHNOLOGY  COMPUTER & OFFICE EQUIPMENT  ...   \n",
      "freq          1       1           1                            1  ...   \n",
      "\n",
      "       EVToRevenue EVToEBITDA  Beta 52WeekHigh 52WeekLow 50DayMovingAverage  \\\n",
      "count            1          1     1          1         1                  1   \n",
      "unique           1          1     1          1         1                  1   \n",
      "top          4.063       20.1  0.71     239.35    158.38             222.95   \n",
      "freq             1          1     1          1         1                  1   \n",
      "\n",
      "       200DayMovingAverage SharesOutstanding DividendDate ExDividendDate  \n",
      "count                    1                 1            1              1  \n",
      "unique                   1                 1            1              1  \n",
      "top                 199.73         924645000   2024-12-10     2024-11-12  \n",
      "freq                     1                 1            1              1  \n",
      "\n",
      "[4 rows x 52 columns]\n"
     ]
    }
   ],
   "source": [
    "# Statistical Summary of Data\n",
    "print(\"\\nStock Price Data - Summary Statistics:\")\n",
    "print(df_price.describe())\n",
    "\n",
    "print(\"\\nCompany Overview Data - Summary Statistics:\")\n",
    "print(df_overview.describe())"
   ]
  },
  {
   "cell_type": "code",
   "execution_count": 46,
   "metadata": {},
   "outputs": [
    {
     "name": "stdout",
     "output_type": "stream",
     "text": [
      "\n",
      "Missing values in Stock Price Data:\n",
      "1. open      6228\n",
      "2. high      6228\n",
      "3. low       6228\n",
      "4. close     6228\n",
      "5. volume    6228\n",
      "SMA             0\n",
      "dtype: int64\n",
      "\n",
      "Missing values in Company Overview Data:\n",
      "Symbol                        0\n",
      "AssetType                     0\n",
      "Name                          0\n",
      "Description                   0\n",
      "CIK                           0\n",
      "Exchange                      0\n",
      "Currency                      0\n",
      "Country                       0\n",
      "Sector                        0\n",
      "Industry                      0\n",
      "Address                       0\n",
      "OfficialSite                  0\n",
      "FiscalYearEnd                 0\n",
      "LatestQuarter                 0\n",
      "MarketCapitalization          0\n",
      "EBITDA                        0\n",
      "PERatio                       0\n",
      "PEGRatio                      0\n",
      "BookValue                     0\n",
      "DividendPerShare              0\n",
      "DividendYield                 0\n",
      "EPS                           0\n",
      "RevenuePerShareTTM            0\n",
      "ProfitMargin                  0\n",
      "OperatingMarginTTM            0\n",
      "ReturnOnAssetsTTM             0\n",
      "ReturnOnEquityTTM             0\n",
      "RevenueTTM                    0\n",
      "GrossProfitTTM                0\n",
      "DilutedEPSTTM                 0\n",
      "QuarterlyEarningsGrowthYOY    0\n",
      "QuarterlyRevenueGrowthYOY     0\n",
      "AnalystTargetPrice            0\n",
      "AnalystRatingStrongBuy        0\n",
      "AnalystRatingBuy              0\n",
      "AnalystRatingHold             0\n",
      "AnalystRatingSell             0\n",
      "AnalystRatingStrongSell       0\n",
      "TrailingPE                    0\n",
      "ForwardPE                     0\n",
      "PriceToSalesRatioTTM          0\n",
      "PriceToBookRatio              0\n",
      "EVToRevenue                   0\n",
      "EVToEBITDA                    0\n",
      "Beta                          0\n",
      "52WeekHigh                    0\n",
      "52WeekLow                     0\n",
      "50DayMovingAverage            0\n",
      "200DayMovingAverage           0\n",
      "SharesOutstanding             0\n",
      "DividendDate                  0\n",
      "ExDividendDate                0\n",
      "dtype: int64\n"
     ]
    }
   ],
   "source": [
    "# Check for missing values\n",
    "print(\"\\nMissing values in Stock Price Data:\")\n",
    "print(df_price.isnull().sum())\n",
    "\n",
    "print(\"\\nMissing values in Company Overview Data:\")\n",
    "print(df_overview.isnull().sum())"
   ]
  },
  {
   "cell_type": "code",
   "execution_count": 47,
   "metadata": {},
   "outputs": [
    {
     "name": "stdout",
     "output_type": "stream",
     "text": [
      "\n",
      "Cleaned stock price data saved to alpha_vantage_cleaned.parquet\n"
     ]
    },
    {
     "name": "stderr",
     "output_type": "stream",
     "text": [
      "/var/folders/f_/mxzw7mdx4qg8bs9xn0wbblsw0000gn/T/ipykernel_23575/2084157104.py:6: FutureWarning: DataFrame.fillna with 'method' is deprecated and will raise in a future version. Use obj.ffill() or obj.bfill() instead.\n",
      "  df_price.fillna(method='ffill', inplace=True)\n"
     ]
    }
   ],
   "source": [
    "# Convert data types for numeric columns\n",
    "columns_to_convert = ['1. open', '2. high', '3. low', '4. close', '5. volume', 'SMA']\n",
    "df_price[columns_to_convert] = df_price[columns_to_convert].apply(pd.to_numeric, errors='coerce')\n",
    "\n",
    "# Handling missing values (forward-fill)\n",
    "df_price.fillna(method='ffill', inplace=True)\n",
    "\n",
    "# Save cleaned data\n",
    "cleaned_price_file = \"alpha_vantage_cleaned.parquet\"\n",
    "df_price.to_parquet(cleaned_price_file)\n",
    "\n",
    "print(f\"\\nCleaned stock price data saved to {cleaned_price_file}\")"
   ]
  },
  {
   "cell_type": "code",
   "execution_count": 48,
   "metadata": {},
   "outputs": [],
   "source": [
    "# Convert company overview numeric fields\n",
    "numeric_columns = [\n",
    "    \"MarketCapitalization\", \"EBITDA\", \"PERatio\", \"PEGRatio\", \"BookValue\",\n",
    "    \"DividendPerShare\", \"DividendYield\", \"EPS\", \"RevenueTTM\", \"GrossProfitTTM\",\n",
    "    \"Beta\", \"52WeekHigh\", \"52WeekLow\", \"50DayMovingAverage\", \"200DayMovingAverage\"\n",
    "]\n",
    "\n",
    "df_overview[numeric_columns] = df_overview[numeric_columns].apply(pd.to_numeric, errors='coerce')"
   ]
  },
  {
   "cell_type": "code",
   "execution_count": 49,
   "metadata": {},
   "outputs": [
    {
     "name": "stdout",
     "output_type": "stream",
     "text": [
      "\n",
      "Cleaned company overview data saved to company_overview_cleaned.parquet\n"
     ]
    }
   ],
   "source": [
    "# Save cleaned company overview data\n",
    "cleaned_overview_file = \"company_overview_cleaned.parquet\"\n",
    "df_overview.to_parquet(cleaned_overview_file)\n",
    "\n",
    "print(f\"\\nCleaned company overview data saved to {cleaned_overview_file}\")"
   ]
  },
  {
   "cell_type": "code",
   "execution_count": 50,
   "metadata": {},
   "outputs": [
    {
     "data": {
      "image/png": "[encoded data removed]",
      "text/plain": [
       "<Figure size 1200x600 with 1 Axes>"
      ]
     },
     "metadata": {},
     "output_type": "display_data"
    }
   ],
   "source": [
    "import matplotlib.pyplot as plt\n",
    "\n",
    "# Plot stock closing prices\n",
    "df_price['4. close'] = pd.to_numeric(df_price['4. close'], errors='coerce')\n",
    "\n",
    "plt.figure(figsize=(12, 6))\n",
    "plt.plot(df_price.index, df_price['4. close'], label='Closing Price', color='blue')\n",
    "plt.title(\"Stock Price Trend for IBM\")\n",
    "plt.xlabel(\"Date\")\n",
    "plt.ylabel(\"Price\")\n",
    "plt.legend()\n",
    "plt.grid()\n",
    "plt.show()\n"
   ]
  }
 ],
 "metadata": {
  "kernelspec": {
   "display_name": "base",
   "language": "python",
   "name": "python3"
  },
  "language_info": {
   "codemirror_mode": {
    "name": "ipython",
    "version": 3
   },
   "file_extension": ".py",
   "mimetype": "text/x-python",
   "name": "python",
   "nbconvert_exporter": "python",
   "pygments_lexer": "ipython3",
   "version": "3.11.8"
  }
 },
 "nbformat": 4,
 "nbformat_minor": 2
}
