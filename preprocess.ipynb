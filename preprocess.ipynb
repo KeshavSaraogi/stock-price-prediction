{
 "cells": [
  {
   "cell_type": "code",
   "execution_count": null,
   "metadata": {},
   "outputs": [],
   "source": [
    "import pandas as pd\n",
    "import pyarrow.parquet as pq\n",
    "\n",
    "price_file = \"alpha_vantage_IBM_2025-01-26.parquet\"\n",
    "overview_file = \"company_overview_IBM_2025-01-26.parquet\"\n",
    "\n",
    "df_price = pd.read_parquet(price_file)\n",
    "df_overview = pd.read_parquet(overview_file)"
   ]
  },
  {
   "cell_type": "code",
   "execution_count": null,
   "metadata": {},
   "outputs": [],
   "source": [
    "# Display data samples\n",
    "print(\"Stock Price Data Sample:\")\n",
    "print(df_price.head())\n",
    "\n",
    "print(\"\\nCompany Overview Data Sample:\")\n",
    "print(df_overview.head())"
   ]
  },
  {
   "cell_type": "code",
   "execution_count": null,
   "metadata": {},
   "outputs": [],
   "source": [
    "# Inspect Parquet file metadata and schema\n",
    "price_parquet = pq.ParquetFile(price_file)\n",
    "overview_parquet = pq.ParquetFile(overview_file)\n",
    "\n",
    "print(\"\\nPrice File Metadata:\")\n",
    "print(price_parquet.metadata)\n",
    "\n",
    "print(\"\\nCompany Overview Metadata:\")\n",
    "print(overview_parquet.metadata)\n",
    "\n",
    "print(\"\\nPrice File Schema:\")\n",
    "print(price_parquet.schema)\n",
    "\n",
    "print(\"\\nCompany Overview Schema:\")\n",
    "print(overview_parquet.schema)"
   ]
  },
  {
   "cell_type": "code",
   "execution_count": null,
   "metadata": {},
   "outputs": [],
   "source": [
    "# Statistical Summary of Data\n",
    "print(\"\\nStock Price Data - Summary Statistics:\")\n",
    "print(df_price.describe())\n",
    "\n",
    "print(\"\\nCompany Overview Data - Summary Statistics:\")\n",
    "print(df_overview.describe())"
   ]
  },
  {
   "cell_type": "code",
   "execution_count": null,
   "metadata": {},
   "outputs": [],
   "source": [
    "# Check for missing values\n",
    "print(\"\\nMissing values in Stock Price Data:\")\n",
    "print(df_price.isnull().sum())\n",
    "\n",
    "print(\"\\nMissing values in Company Overview Data:\")\n",
    "print(df_overview.isnull().sum())"
   ]
  },
  {
   "cell_type": "code",
   "execution_count": null,
   "metadata": {},
   "outputs": [],
   "source": [
    "# Convert data types for numeric columns\n",
    "columns_to_convert = ['1. open', '2. high', '3. low', '4. close', '5. volume', 'SMA']\n",
    "df_price[columns_to_convert] = df_price[columns_to_convert].apply(pd.to_numeric, errors='coerce')\n",
    "\n",
    "# Handling missing values (forward-fill)\n",
    "df_price.fillna(method='ffill', inplace=True)\n",
    "\n",
    "# Save cleaned data\n",
    "cleaned_price_file = \"alpha_vantage_cleaned.parquet\"\n",
    "df_price.to_parquet(cleaned_price_file)\n",
    "\n",
    "print(f\"\\nCleaned stock price data saved to {cleaned_price_file}\")"
   ]
  },
  {
   "cell_type": "code",
   "execution_count": null,
   "metadata": {},
   "outputs": [],
   "source": [
    "# Convert company overview numeric fields\n",
    "numeric_columns = [\n",
    "    \"MarketCapitalization\", \"EBITDA\", \"PERatio\", \"PEGRatio\", \"BookValue\",\n",
    "    \"DividendPerShare\", \"DividendYield\", \"EPS\", \"RevenueTTM\", \"GrossProfitTTM\",\n",
    "    \"Beta\", \"52WeekHigh\", \"52WeekLow\", \"50DayMovingAverage\", \"200DayMovingAverage\"\n",
    "]\n",
    "\n",
    "df_overview[numeric_columns] = df_overview[numeric_columns].apply(pd.to_numeric, errors='coerce')"
   ]
  },
  {
   "cell_type": "code",
   "execution_count": null,
   "metadata": {},
   "outputs": [],
   "source": [
    "# Save cleaned company overview data\n",
    "cleaned_overview_file = \"company_overview_cleaned.parquet\"\n",
    "df_overview.to_parquet(cleaned_overview_file)\n",
    "\n",
    "print(f\"\\nCleaned company overview data saved to {cleaned_overview_file}\")"
   ]
  }
 ],
 "metadata": {
  "kernelspec": {
   "display_name": "base",
   "language": "python",
   "name": "python3"
  },
  "language_info": {
   "codemirror_mode": {
    "name": "ipython",
    "version": 3
   },
   "file_extension": ".py",
   "mimetype": "text/x-python",
   "name": "python",
   "nbconvert_exporter": "python",
   "pygments_lexer": "ipython3",
   "version": "3.11.8"
  }
 },
 "nbformat": 4,
 "nbformat_minor": 2
}
