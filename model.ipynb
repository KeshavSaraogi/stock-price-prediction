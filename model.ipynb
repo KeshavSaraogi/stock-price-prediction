{
 "cells": [
  {
   "cell_type": "code",
   "execution_count": null,
   "metadata": {},
   "outputs": [],
   "source": [
    "import pandas as pd\n",
    "import numpy as np\n",
    "import matplotlib.pyplot as plt\n",
    "from sklearn.model_selection import train_test_split\n",
    "from sklearn.preprocessing import StandardScaler\n",
    "from sklearn.linear_model import LinearRegression\n",
    "from sklearn.metrics import mean_squared_error, r2_score\n",
    "\n",
    "# Load cleaned data\n",
    "file_path = \"alpha_vantage_IBM_2025-01-26.parquet\"\n",
    "df = pd.read_parquet(file_path)\n",
    "\n",
    "print(\"Available columns in the dataframe:\", df.columns.tolist())\n",
    "\n",
    "# Ensure numeric conversion of required columns\n",
    "numeric_columns = ['1. open', '2. high', '3. low', '4. close', '5. volume', 'SMA']\n",
    "df[numeric_columns] = df[numeric_columns].apply(pd.to_numeric, errors='coerce')\n",
    "\n",
    "# Handle missing values\n",
    "df.fillna(method='ffill', inplace=True)\n",
    "\n",
    "# Feature Engineering\n",
    "df['price_change'] = df['4. close'].diff()\n",
    "df['rolling_avg_50'] = df['4. close'].rolling(window=50).mean()\n",
    "df['rolling_avg_200'] = df['4. close'].rolling(window=200).mean()\n",
    "df.dropna(inplace=True)\n",
    "\n",
    "# Prepare features and target variable\n",
    "X = df[['1. open', '2. high', '3. low', '5. volume', 'SMA', 'price_change', 'rolling_avg_50', 'rolling_avg_200']]\n",
    "y = df['4. close']\n",
    "\n",
    "# Split the dataset\n",
    "if len(X) > 0:\n",
    "    X_train, X_test, y_train, y_test = train_test_split(X, y, test_size=0.2, random_state=42)\n",
    "else:\n",
    "    raise ValueError(\"Insufficient data for training. Please check the preprocessing step.\")\n",
    "\n",
    "# Scale the features\n",
    "scaler = StandardScaler()\n",
    "X_train_scaled = scaler.fit_transform(X_train)\n",
    "X_test_scaled = scaler.transform(X_test)\n",
    "\n",
    "# Train the model\n",
    "model = LinearRegression()\n",
    "model.fit(X_train_scaled, y_train)\n",
    "\n",
    "# Predictions\n",
    "y_pred = model.predict(X_test_scaled)\n",
    "\n",
    "# Evaluate model performance\n",
    "mse = mean_squared_error(y_test, y_pred)\n",
    "r2 = r2_score(y_test, y_pred)\n",
    "\n",
    "print(f\"Mean Squared Error (MSE): {mse:.2f}\")\n",
    "print(f\"R-squared (R²): {r2:.2f}\")\n",
    "\n",
    "# Visualization of actual vs predicted prices\n",
    "plt.figure(figsize=(10, 6))\n",
    "plt.plot(y_test.values, label=\"Actual Prices\", color=\"blue\")\n",
    "plt.plot(y_pred, label=\"Predicted Prices\", color=\"red\")\n",
    "plt.title(\"Stock Price Prediction\")\n",
    "plt.xlabel(\"Sample Index\")\n",
    "plt.ylabel(\"Price\")\n",
    "plt.legend()\n",
    "plt.grid()\n",
    "plt.show()\n"
   ]
  },
  {
   "cell_type": "code",
   "execution_count": null,
   "metadata": {},
   "outputs": [],
   "source": []
  },
  {
   "cell_type": "code",
   "execution_count": null,
   "metadata": {},
   "outputs": [],
   "source": []
  },
  {
   "cell_type": "code",
   "execution_count": null,
   "metadata": {},
   "outputs": [],
   "source": []
  },
  {
   "cell_type": "code",
   "execution_count": null,
   "metadata": {},
   "outputs": [],
   "source": []
  },
  {
   "cell_type": "code",
   "execution_count": null,
   "metadata": {},
   "outputs": [],
   "source": []
  },
  {
   "cell_type": "code",
   "execution_count": null,
   "metadata": {},
   "outputs": [],
   "source": []
  },
  {
   "cell_type": "code",
   "execution_count": null,
   "metadata": {},
   "outputs": [],
   "source": []
  },
  {
   "cell_type": "code",
   "execution_count": null,
   "metadata": {},
   "outputs": [],
   "source": []
  },
  {
   "cell_type": "code",
   "execution_count": null,
   "metadata": {},
   "outputs": [],
   "source": []
  }
 ],
 "metadata": {
  "kernelspec": {
   "display_name": "base",
   "language": "python",
   "name": "python3"
  },
  "language_info": {
   "codemirror_mode": {
    "name": "ipython",
    "version": 3
   },
   "file_extension": ".py",
   "mimetype": "text/x-python",
   "name": "python",
   "nbconvert_exporter": "python",
   "pygments_lexer": "ipython3",
   "version": "3.11.8"
  }
 },
 "nbformat": 4,
 "nbformat_minor": 2
}
