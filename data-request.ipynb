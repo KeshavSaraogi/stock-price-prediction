{
 "cells": [
  {
   "cell_type": "code",
   "execution_count": null,
   "metadata": {},
   "outputs": [],
   "source": [
    "import requests\n",
    "\n",
    "url = 'https://www.alphavantage.co/query?function=TIME_SERIES_INTRADAY&symbol=IBM&interval=5min&apikey=demo'\n",
    "r = requests.get(url)\n",
    "data = r.json()\n",
    "\n",
    "print(data)"
   ]
  },
  {
   "cell_type": "code",
   "execution_count": null,
   "metadata": {},
   "outputs": [],
   "source": [
    "import requests\n",
    "import pandas as pd\n",
    "\n",
    "def fetch_intraday_data(symbol, interval, api_key):\n",
    "    \"\"\"\n",
    "    Fetches intraday data for a given stock symbol and interval using Alpha Vantage API.\n",
    "\n",
    "    Args:\n",
    "        symbol (str): Stock symbol (e.g., \"AAPL\").\n",
    "        interval (str): Time interval (e.g., \"1min\", \"5min\").\n",
    "        api_key (str): Alpha Vantage API key.\n",
    "\n",
    "    Returns:\n",
    "        pd.DataFrame: DataFrame containing intraday stock data.\n",
    "    \"\"\"\n",
    "    url = f\"https://www.alphavantage.co/query\"\n",
    "    params = {\n",
    "        \"function\": \"TIME_SERIES_INTRADAY\",\n",
    "        \"symbol\": symbol,\n",
    "        \"interval\": interval,\n",
    "        \"apikey\": api_key,\n",
    "        \"datatype\": \"json\"\n",
    "    }\n",
    "    response = requests.get(url, params=params)\n",
    "    data = response.json()\n",
    "    \n",
    "    # Parse the 'Time Series' data\n",
    "    time_series_key = f\"Time Series ({interval})\"\n",
    "    if time_series_key in data:\n",
    "        df = pd.DataFrame.from_dict(data[time_series_key], orient=\"index\")\n",
    "        df.columns = [col.split(\". \")[1] for col in df.columns]\n",
    "        df.index = pd.to_datetime(df.index)\n",
    "        return df\n",
    "    else:\n",
    "        print(\"Error:\", data.get(\"Note\") or data.get(\"Error Message\"))\n",
    "        return pd.DataFrame()\n",
    "\n",
    "# Example usage\n",
    "API_KEY = \"your_alpha_vantage_api_key\"\n",
    "symbol = \"AAPL\"\n",
    "interval = \"1min\"\n",
    "intraday_data = fetch_intraday_data(symbol, interval, API_KEY)\n",
    "print(intraday_data.head())\n"
   ]
  }
 ],
 "metadata": {
  "kernelspec": {
   "display_name": "base",
   "language": "python",
   "name": "python3"
  },
  "language_info": {
   "codemirror_mode": {
    "name": "ipython",
    "version": 3
   },
   "file_extension": ".py",
   "mimetype": "text/x-python",
   "name": "python",
   "nbconvert_exporter": "python",
   "pygments_lexer": "ipython3",
   "version": "3.11.8"
  }
 },
 "nbformat": 4,
 "nbformat_minor": 2
}
